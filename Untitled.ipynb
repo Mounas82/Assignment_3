{
 "cells": [
  {
   "cell_type": "markdown",
   "metadata": {},
   "source": [
    "# 1. Indexing"
   ]
  },
  {
   "cell_type": "code",
   "execution_count": 4,
   "metadata": {},
   "outputs": [
    {
     "name": "stdout",
     "output_type": "stream",
     "text": [
      "Ali is working in Google for 5 years and his salary is 125000\n"
     ]
    }
   ],
   "source": [
    "# Example 1\n",
    "# Ali is working in Google for 5 years and his salary is 125000'\n",
    "\n",
    "employee_data = ['Ali', 125000, 'Google', 5]\n",
    "msg = employee_data[0] + \" is working in \" + employee_data[-2] + \" for \" + str(employee_data[-1]) + \" years and his salary is \" + str(employee_data[1])\n",
    "print(msg)"
   ]
  },
  {
   "cell_type": "code",
   "execution_count": 7,
   "metadata": {},
   "outputs": [
    {
     "name": "stdout",
     "output_type": "stream",
     "text": [
      "Hello Ahmed Bilal\n",
      "Your application is accepted for admission in BS Computer Science in Government College University \n",
      "You have to submit fee 50000 before 28 Januray 2020 \n",
      "Your class will start from 05 February 2020 \n",
      "Thanks\n"
     ]
    }
   ],
   "source": [
    "# Example 2\n",
    "\n",
    "studentData = ['Ahmed', 'Bilal', 'Government College University', 'Computer Science', 'BS', 50000,'28 Januray 2020', '05 February 2020']\n",
    "msg_1 = \"Hello \"+studentData[0]+ \" \" +studentData[1]+ \"\\nYour application is accepted for admission in \" +studentData[4]+ \" \" +studentData[3]+ \" in \" +studentData[2]+ \" \\nYou have to submit fee \"+str(studentData[-3])+ \" before \"+str(studentData[-2])+ \" \\nYour class will start from \"+str(studentData[-1])+ \" \\nThanks\"\n",
    "print(msg_1)"
   ]
  },
  {
   "cell_type": "markdown",
   "metadata": {},
   "source": [
    "# 2. Slicing"
   ]
  },
  {
   "cell_type": "code",
   "execution_count": 13,
   "metadata": {},
   "outputs": [
    {
     "name": "stdout",
     "output_type": "stream",
     "text": [
      "['Faisalabad', 'Lahore', 'Islamabad', 'Peshawar', 'Quetta']\n",
      "['Islamabad', 'Peshawar', 'Quetta', 'Sahiwal']\n",
      "['Sahiwal', 'Rawalpindi', 'Sialkot']\n"
     ]
    }
   ],
   "source": [
    "cities = [\"Faisalabad\", \"Lahore\", \"Islamabad\", \"Peshawar\", \"Quetta\", \"Sahiwal\", \"Rawalpindi\", \"Sialkot\"]\n",
    "\n",
    "# (For positive slicing)\n",
    "# 1. [\"Faisalabad\", \"Lahore\", \"Islamabad\", \"Peshawar\"]\n",
    "# 2. [\"Islamabad\", \"Peshawar\", \"Quetta\", \"Sahiwal\"]\n",
    "# 3. [\"Sahiwal\", \"Rawalpindi\", \"Sialkot\"]\n",
    "\n",
    "print(cities[0:5])\n",
    "print(cities[2:6])\n",
    "print(cities[5:8])"
   ]
  },
  {
   "cell_type": "code",
   "execution_count": 17,
   "metadata": {},
   "outputs": [
    {
     "name": "stdout",
     "output_type": "stream",
     "text": [
      "['Quetta', 'Sahiwal', 'Rawalpindi']\n",
      "['Islamabad', 'Peshawar', 'Quetta', 'Sahiwal', 'Rawalpindi', 'Sialkot']\n"
     ]
    }
   ],
   "source": [
    "# (For negative slicing)\n",
    "# 1. ['Quetta', 'Sahiwal', 'Rawalpindi']\n",
    "# 2. ['Peshawar', 'Quetta', 'Sahiwal', 'Rawalpindi', 'Sialkot']\n",
    "\n",
    "cities = [\"Faisalabad\", \"Lahore\", \"Islamabad\", \"Peshawar\", \"Quetta\", \"Sahiwal\", \"Rawalpindi\", \"Sialkot\"]\n",
    "print(cities[-4:-1])\n",
    "print(cities[-6:])"
   ]
  },
  {
   "cell_type": "markdown",
   "metadata": {},
   "source": [
    "# 3. Update Lists"
   ]
  },
  {
   "cell_type": "code",
   "execution_count": 20,
   "metadata": {},
   "outputs": [
    {
     "name": "stdout",
     "output_type": "stream",
     "text": [
      "['Ali Raza', 22, 91.24, 'Computer Science', 5, 'University of Agriculture', '20 February 2019', 8]\n"
     ]
    }
   ],
   "source": [
    "studentData = [\"Ali Raza\", 22, 91.24, \"Computer Science\", 5, \"University of Agriculture\"]\n",
    "# Add values to this list using append\n",
    "\n",
    "# 1. '20 February 2019'\n",
    "# 2. 8\n",
    "studentData.append(\"20 February 2019\")\n",
    "studentData.append(8)\n",
    "print(studentData)"
   ]
  },
  {
   "cell_type": "code",
   "execution_count": 21,
   "metadata": {},
   "outputs": [
    {
     "name": "stdout",
     "output_type": "stream",
     "text": [
      "['Ali Raza', 'M. Iqbal', 22, 91.24, 'Computer Science', 25000, 5, 'University of Agriculture', '20 February 2019', 8]\n"
     ]
    }
   ],
   "source": [
    "# Use insert method to insert at specific index\n",
    "\n",
    "# 1. 25000 at index 4\n",
    "# 2. 'M. Iqbal' at index 1\n",
    "studentData.insert(4, 25000)\n",
    "studentData.insert(1, \"M. Iqbal\")\n",
    "print(studentData)"
   ]
  },
  {
   "cell_type": "code",
   "execution_count": 22,
   "metadata": {},
   "outputs": [
    {
     "name": "stdout",
     "output_type": "stream",
     "text": [
      "['Zohaib Ali', 'M. Iqbal', 22, 91.24, 'Computer Science', 25000, 7, 'University of Agriculture', '20 February 2019', 8]\n"
     ]
    }
   ],
   "source": [
    "# Update list using list update method:\n",
    "\n",
    "# 1. Change Name from 'Ali Raza' to 'Zohaib Ali'\n",
    "# 2. Change No of subjects from 5 to 7\n",
    "\n",
    "studentData[0] = \"Zohaib Ali\"\n",
    "studentData[6] = 7\n",
    "print(studentData)"
   ]
  },
  {
   "cell_type": "code",
   "execution_count": 23,
   "metadata": {},
   "outputs": [
    {
     "name": "stdout",
     "output_type": "stream",
     "text": [
      "['Zohaib Ali', 'M. Iqbal', 22, 25000, 7, 'University of Agriculture', '20 February 2019', 8]\n"
     ]
    }
   ],
   "source": [
    "# Remove values from list using remove method\n",
    "\n",
    "# 1. 'Computer Science'\n",
    "# 2. 91.24\n",
    "\n",
    "studentData.remove(\"Computer Science\")\n",
    "studentData.remove(91.24)\n",
    "print(studentData)"
   ]
  },
  {
   "cell_type": "code",
   "execution_count": 24,
   "metadata": {},
   "outputs": [
    {
     "name": "stdout",
     "output_type": "stream",
     "text": [
      "['Zohaib Ali', 'M. Iqbal', 22, 7, 'University of Agriculture', '20 February 2019']\n"
     ]
    }
   ],
   "source": [
    "# Remove using pop method\n",
    "\n",
    "# 1. Last value from list\n",
    "# 2. value at 3rd index\n",
    "\n",
    "studentData.pop(-1)\n",
    "studentData.pop(3)\n",
    "print(studentData)"
   ]
  },
  {
   "cell_type": "markdown",
   "metadata": {},
   "source": [
    "# 4. Multidimensional list tasks"
   ]
  },
  {
   "cell_type": "code",
   "execution_count": null,
   "metadata": {},
   "outputs": [],
   "source": [
    "employeeData = [[\"Ali\", 35000, \"Software Engineer\"], [\"Talha\", 55000, \"Product Manager\"], [\"Nasir\", 79000, \"Computer Engineer\"], [\"Khalid\", 44000, \"DBA\"]]\n"
   ]
  },
  {
   "cell_type": "code",
   "execution_count": null,
   "metadata": {},
   "outputs": [],
   "source": [
    "# Sorry Sir I cannot do Multidimensional list tasks."
   ]
  },
  {
   "cell_type": "markdown",
   "metadata": {},
   "source": [
    "# 5. Login User"
   ]
  },
  {
   "cell_type": "code",
   "execution_count": 26,
   "metadata": {},
   "outputs": [
    {
     "name": "stdout",
     "output_type": "stream",
     "text": [
      "Login Succeed\n"
     ]
    }
   ],
   "source": [
    "# Data 1\n",
    "\n",
    "username = \"faizan1214\"\n",
    "password = \"qwerty\"\n",
    "emailVerified = \"False\"\n",
    "\n",
    "if username == \"faizan1214\" and password == \"qwerty\" and emailVerified == \"False\":\n",
    "    print(\"Login Succeed\")\n",
    "else:\n",
    "    print(\"Incorrect Login details\")"
   ]
  },
  {
   "cell_type": "code",
   "execution_count": 27,
   "metadata": {},
   "outputs": [
    {
     "name": "stdout",
     "output_type": "stream",
     "text": [
      "Incorrect Login details\n"
     ]
    }
   ],
   "source": [
    "# Data 2\n",
    "\n",
    "username = \"faizan1214\"\n",
    "password = \"qwerty\"\n",
    "emailVerified = \"True\"\n",
    "\n",
    "if username == \"faizan1214\" and password == \"qwerty\" and emailVerified == \"False\":\n",
    "    print(\"Login Succeed\")\n",
    "else:\n",
    "    print(\"Incorrect Login details\")"
   ]
  },
  {
   "cell_type": "code",
   "execution_count": null,
   "metadata": {},
   "outputs": [],
   "source": []
  }
 ],
 "metadata": {
  "kernelspec": {
   "display_name": "Python 3",
   "language": "python",
   "name": "python3"
  },
  "language_info": {
   "codemirror_mode": {
    "name": "ipython",
    "version": 3
   },
   "file_extension": ".py",
   "mimetype": "text/x-python",
   "name": "python",
   "nbconvert_exporter": "python",
   "pygments_lexer": "ipython3",
   "version": "3.7.4"
  }
 },
 "nbformat": 4,
 "nbformat_minor": 2
}
